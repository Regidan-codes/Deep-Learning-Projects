{
 "cells": [
  {
   "cell_type": "code",
   "execution_count": 1,
   "id": "5283de56-d004-4b45-85ef-6cb96d5b55b9",
   "metadata": {},
   "outputs": [
    {
     "name": "stdout",
     "output_type": "stream",
     "text": [
      "Requirement already satisfied: numpy in ./.conda/envs/default/lib/python3.9/site-packages (1.24.0)\n",
      "Requirement already satisfied: matplotlib in ./.conda/envs/default/lib/python3.9/site-packages (3.6.2)\n",
      "Requirement already satisfied: contourpy>=1.0.1 in ./.conda/envs/default/lib/python3.9/site-packages (from matplotlib) (1.0.6)\n",
      "Requirement already satisfied: pyparsing>=2.2.1 in ./.conda/envs/default/lib/python3.9/site-packages (from matplotlib) (3.0.9)\n",
      "Requirement already satisfied: packaging>=20.0 in ./.conda/envs/default/lib/python3.9/site-packages (from matplotlib) (21.3)\n",
      "Requirement already satisfied: python-dateutil>=2.7 in ./.conda/envs/default/lib/python3.9/site-packages (from matplotlib) (2.8.2)\n",
      "Requirement already satisfied: cycler>=0.10 in ./.conda/envs/default/lib/python3.9/site-packages (from matplotlib) (0.11.0)\n",
      "Requirement already satisfied: pillow>=6.2.0 in ./.conda/envs/default/lib/python3.9/site-packages (from matplotlib) (9.3.0)\n",
      "Requirement already satisfied: fonttools>=4.22.0 in ./.conda/envs/default/lib/python3.9/site-packages (from matplotlib) (4.38.0)\n",
      "Requirement already satisfied: kiwisolver>=1.0.1 in ./.conda/envs/default/lib/python3.9/site-packages (from matplotlib) (1.4.4)\n",
      "Requirement already satisfied: six>=1.5 in ./.conda/envs/default/lib/python3.9/site-packages (from python-dateutil>=2.7->matplotlib) (1.16.0)\n"
     ]
    }
   ],
   "source": [
    "!pip install numpy matplotlib"
   ]
  },
  {
   "cell_type": "code",
   "execution_count": 1,
   "id": "370fcbc4-85a2-4af2-889d-3ebe16bba77a",
   "metadata": {},
   "outputs": [],
   "source": [
    "import numpy as np \n",
    "import matplotlib.pyplot as plt"
   ]
  },
  {
   "cell_type": "code",
   "execution_count": 2,
   "id": "4623cd54-b29f-464c-93c5-569af81fadf7",
   "metadata": {},
   "outputs": [],
   "source": [
    "def sigmoid(z):\n",
    "    \"\"\"Compute sigmoid values for each sets of scores in x\"\"\"\n",
    "    return 1 / (1 + np.exp(-z))"
   ]
  },
  {
   "cell_type": "code",
   "execution_count": 3,
   "id": "a49f3d69-c701-46eb-9bd7-8f8ff5fb0a2f",
   "metadata": {},
   "outputs": [],
   "source": [
    "def softmax(x):\n",
    "    \"\"\"Compute softmax values for each sets of scores in x\"\"\"\n",
    "    return np.exp(x) / np.sum(np.exp(x), axis=1) "
   ]
  },
  {
   "cell_type": "code",
   "execution_count": 4,
   "id": "b1999853-fa62-446a-aa82-dceb8028a397",
   "metadata": {},
   "outputs": [],
   "source": [
    "def forward_propagation(x, w1, w2, w3, b1, b2, b3):\n",
    "   \"\"\" \n",
    "    Computes the forward propagation operation for the 3-layered \n",
    "    neural network and returns the output at the 2 hidden layers \n",
    "    and the output layer\n",
    "   \"\"\"\n",
    "   net_h1 = np.dot(x, w1) + b1 # net output at the first hidden layer\n",
    "   out_h1 = sigmoid(net_h1) # applying the sigmoid activation to the first hidden layer net output\n",
    "   net_h2 = np.dot(out_h1, w2) + b2 # net output at the second hidden layer\n",
    "   out_h2 = sigmoid(net_h2) # applying the sigmoid activation to the second hidden layer net output\n",
    "   net_y = np.dot(out_h2, w3) + b3 # net output of the output layer\n",
    "   out_y = softmax(net_y) # applying the softmax activation to the net output of output layer\n",
    "   return out_h1, out_h2, out_y"
   ]
  },
  {
   "cell_type": "code",
   "execution_count": 5,
   "id": "79ab4afe-1bfc-4e2a-b70a-808a94891133",
   "metadata": {},
   "outputs": [],
   "source": [
    "def backpropagation(y, out_y, out_h2, out_h1, w3, w2, x):\n",
    "    \"\"\" \n",
    "    Computes the backpropagation operation for the \n",
    "    3-layered neural network and returns the gradients\n",
    "    of weights and biases\n",
    "    \"\"\"\n",
    "    # Back propagating error from output to second hidden layer\n",
    "    l3_error = out_y - y # Calculating error at layer 3\n",
    "    dW3 = np.dot(out_h2.T, l3_error) # Change in weights at layer 3\n",
    "    db3 = np.sum(l3_error, axis = 0, keepdims=True) # Change in bias at layer 3\n",
    "\n",
    "    # Back propagating error from second hidden layer to first hidden layer\n",
    "    dh2 = np.dot(w3, l3_error) \n",
    "    l2_error = np.multiply(dh2.T, out_h2 * (1 - out_h2)) # Calculating error at layer 2\n",
    "    dW2 = np.dot(out_h1.T, l2_error) # Change in weights at layer 2\n",
    "    db2 = np.sum(l2_error, axis = 0, keepdims=True) # Change in bias at layer 2\n",
    "\n",
    "    # Back propagating error from first hidden layer to input layer\n",
    "    dh1 = np.dot(w2, l2_error.T)\n",
    "    l1_error = np.multiply(dh1.T, out_h1 * (1 - out_h1)) # Calculating error at layer 1\n",
    "    dW1 = np.dot(x.T, l1_error) # Change in weights at layer 1\n",
    "    db1 = np.sum(l1_error, axis=0, keepdims=True) # Change in bias at layer 1\n",
    "\n",
    "    return dW1, dW2, dW3, db1, db2, db3 "
   ]
  },
  {
   "cell_type": "code",
   "execution_count": 6,
   "id": "d3ad530f-4785-450e-be45-e8be9d33bdd0",
   "metadata": {},
   "outputs": [],
   "source": [
    "def update_parameters(w1, dW1, b1, db1, w2, dW2, b2, db2, w3, dW3, b3, db3, learning_rate):\n",
    "    \"\"\"Update parameters after the gradient descent operation\"\"\"\n",
    "    w1 = w1 - learning_rate * dW1\n",
    "    b1 = b1 - learning_rate * db1\n",
    "    w2 = w2 - learning_rate * dW2\n",
    "    b2 = b2 - learning_rate * db2\n",
    "    w3 = w3 - learning_rate * dW3\n",
    "    b3 = b3 - learning_rate * db3\n",
    "    return w1, b1, w2, b2, w3, b3\n"
   ]
  },
  {
   "cell_type": "code",
   "execution_count": 11,
   "id": "653f72e4-f213-4380-8362-d1105f43950b",
   "metadata": {},
   "outputs": [],
   "source": [
    "def calculate_error(y, y_predicted):\n",
    "    \"\"\"Calculate the cross entropy losss\"\"\"\n",
    "    loss = np.sum(- y * np.log(y_predicted) - (1 - y) * np.log(1 - y_predicted))\n",
    "    return loss"
   ]
  },
  {
   "cell_type": "code",
   "execution_count": 14,
   "id": "8f083b67-54af-4873-b972-b39b2e6068d0",
   "metadata": {},
   "outputs": [],
   "source": [
    "def train(x, y, w1, w2, w3, b1, b2, b3, epochs, learning_rate):\n",
    "    \"\"\"Train the 3 layered neural network\"\"\"\n",
    "    losses = np.zeros((epochs, 1))\n",
    "\n",
    "    for i in range(epochs):\n",
    "      \n",
    "        out_h1, out_h2, out_y = forward_propagation(x, w1, w2, w3, b1, b2, b3)\n",
    "        losses [i, 0] = calculate_error(y, out_y)\n",
    "        dW1, dW2, dW3, db1, db2, db3 = backpropagation(y, out_y, out_h2, out_h1, w3, w2, x)\n",
    "        w1, b1, w2, b2, w3, b3 = update_parameters(w1, dW1, b1, db1, w2, dW2, b2, db2, w3, dW3, b3, db3, learning_rate)\n",
    "\n",
    "    return w1, b1, w2, b2, w3, b3, losses"
   ]
  },
  {
   "cell_type": "code",
   "execution_count": 19,
   "id": "564842cf-6b1e-4733-8f56-6c686c0bf002",
   "metadata": {},
   "outputs": [],
   "source": [
    "# Creating data set   \n",
    "# A \n",
    "A = [0, 0, 1, 1, 0, 0, \n",
    "   0, 1, 0, 0, 1, 0, \n",
    "   1, 1, 1, 1, 1, 1, \n",
    "   1, 0, 0, 0, 0, 1, \n",
    "   1, 0, 0, 0, 0, 1] \n",
    "   \n",
    "# B \n",
    "B =[0, 1, 1, 1, 1, 0, \n",
    "   0, 1, 0, 0, 1, 0, \n",
    "   0, 1, 1, 1, 1, 0, \n",
    "   0, 1, 0, 0, 1, 0, \n",
    "   0, 1, 1, 1, 1, 0] \n",
    "# C \n",
    "C =[0, 1, 1, 1, 1, 0, \n",
    "   0, 1, 0, 0, 0, 0, \n",
    "   0, 1, 0, 0, 0, 0, \n",
    "   0, 1, 0, 0, 0, 0, \n",
    "   0, 1, 1, 1, 1, 0] \n",
    "  \n",
    "# Creating labels \n",
    "y =[[1, 0, 0], \n",
    "   [0, 1, 0], \n",
    "   [0, 0, 1]] "
   ]
  },
  {
   "cell_type": "code",
   "execution_count": 20,
   "id": "695fe9b7-d8bb-4511-864e-36c6c3d526d5",
   "metadata": {},
   "outputs": [
    {
     "data": {
      "image/png": "[encoded data removed]",
      "text/plain": [
       "<Figure size 640x480 with 1 Axes>"
      ]
     },
     "metadata": {},
     "output_type": "display_data"
    }
   ],
   "source": [
    "# converting data and labels into numpy array \n",
    "x = np.array([a, b, c]) \n",
    "# Labels are also converted into NumPy array \n",
    "y = np.array(y) \n",
    "\n",
    "np.random.seed(42) # seed function to generate the same random value\n",
    "n_x = 30 # number of nodes in the input layer\n",
    "n_h1 = 5 # number of nodes in the first hidden layer\n",
    "n_h2 = 4 # number of nodes in the second hidden layer\n",
    "n_y = 3 # number of nodes in the output layer\n",
    "w1 = np.random.randn(n_x, n_h1) # weights of the first hidden layer\n",
    "w2 = np.random.randn(n_h1, n_h2) # weights of the second hidden layer\n",
    "w3 = np.random.randn(n_h2, n_y) # weights of the output layer\n",
    "b1 = np.zeros((1, n_h1)) # bias of the first hidden layer\n",
    "b2 = np.zeros((1, n_h2)) # bias of the second hidden layer\n",
    "b3 = np.zeros((1, n_y)) # bias of the output layer\n",
    "epochs = 1000\n",
    "learning_rate = 0.5\n",
    "# Train the neural network\n",
    "w1, b1, w2, b2, w3, b3, losses = train(x, y, w1, w2, w3, b1, b2, b3, epochs, learning_rate)\n",
    "# Evaluating the performance \n",
    "plt.figure() \n",
    "plt.plot(losses) \n",
    "plt.xlabel(\"EPOCHS\") \n",
    "plt.ylabel(\"Loss value\") \n",
    "plt.show() "
   ]
  },
  {
   "cell_type": "code",
   "execution_count": 24,
   "id": "a21baa25-3382-4438-ab33-812b5d24335c",
   "metadata": {},
   "outputs": [],
   "source": [
    "A = x[0] # pixel values for letter A\n",
    "B = x[1] # pixel values for letter B\n",
    "C = x[2] # pixel values for letter C\n",
    "\n",
    "def predict(letter, x):\n",
    "    \"\"\"Computes predictions on the trained weights and bias\"\"\"\n",
    "    out_h1, out_h2, out_y = forward_propagation(letter, w1, w2, w3, b1, b2, b3)\n",
    "    print(\"softmax output:\", out_y)\n",
    "    prediction = np.where(out_y == np.amax(out_y)) # returns the maximum value of array\n",
    "    print(\"Highest value of index:\", prediction[1][0]) \n",
    "    # plot the predicted label\n",
    "    plt.xlabel(\"Predicted label\") \n",
    "    plt.imshow(x[prediction[1][0]].reshape(5, 6)) \n",
    "    plt.show()"
   ]
  },
  {
   "cell_type": "code",
   "execution_count": 25,
   "id": "6839764a-bba1-4068-9538-9155defa4ed6",
   "metadata": {},
   "outputs": [
    {
     "data": {
      "image/png": "[encoded data removed]",
      "text/plain": [
       "<Figure size 640x480 with 1 Axes>"
      ]
     },
     "metadata": {},
     "output_type": "display_data"
    },
    {
     "name": "stdout",
     "output_type": "stream",
     "text": [
      "softmax output: [[9.98745200e-01 1.21546937e-03 3.93308569e-05]]\n",
      "Highest value of index: 0\n"
     ]
    },
    {
     "data": {
      "image/png": "[encoded data removed]",
      "text/plain": [
       "<Figure size 640x480 with 1 Axes>"
      ]
     },
     "metadata": {},
     "output_type": "display_data"
    }
   ],
   "source": [
    "letter = A\n",
    "# printing the target label\n",
    "plt.imshow(letter.reshape(5, 6)) \n",
    "plt.xlabel(\"Target label\") \n",
    "plt.show() \n",
    "predict(letter, x)   "
   ]
  },
  {
   "cell_type": "markdown",
   "id": "ddd6967d-e2bd-42bd-91a1-a7d90436b0b3",
   "metadata": {},
   "source": [
    "predict function:\n",
    "\n",
    "The function takes in the pixel value of a letter and training data x:\n",
    "\n",
    "It calls the forward_propagation function which returns the output at the hidden layers out_h1, and out_h2 respectively and the output layer out_y.\n",
    "\n",
    "The output value shows the probability of a letter belonging to class A, B, or C.\n",
    "\n",
    "It finds the index of the maximum value of array out_y (to get the predicted class). This index is searched in training data x to look for the corresponding label.\n",
    "\n",
    "The predicted label is reshaped in 5 rows and 6 columns to print the letter."
   ]
  }
 ],
 "metadata": {
  "kernelspec": {
   "display_name": "default:Python",
   "language": "python",
   "name": "conda-env-default-py"
  },
  "language_info": {
   "codemirror_mode": {
    "name": "ipython",
    "version": 3
   },
   "file_extension": ".py",
   "mimetype": "text/x-python",
   "name": "python",
   "nbconvert_exporter": "python",
   "pygments_lexer": "ipython3",
   "version": "3.9.13"
  }
 },
 "nbformat": 4,
 "nbformat_minor": 5
}
